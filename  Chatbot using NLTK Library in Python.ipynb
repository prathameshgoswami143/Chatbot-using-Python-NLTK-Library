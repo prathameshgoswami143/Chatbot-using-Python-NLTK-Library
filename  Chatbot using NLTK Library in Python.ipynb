{
 "cells": [
  {
   "cell_type": "markdown",
   "id": "5ae587c6",
   "metadata": {},
   "source": [
    "#  <font color='blue'> Implementing Chatbot using Python NLTK Library"
   ]
  },
  {
   "cell_type": "markdown",
   "id": "1b575946",
   "metadata": {},
   "source": [
    "* NLTK stands for Natural language toolkit used to deal with NLP applications and chatbot is one among them. \n",
    "\n",
    "\n",
    "* Now we will advance our Rule-based chatbots using the NLTK library. \n",
    "\n",
    "\n",
    "* Please install the NLTK library first before working using the pip command."
   ]
  },
  {
   "cell_type": "markdown",
   "id": "60189821",
   "metadata": {},
   "source": [
    "  "
   ]
  },
  {
   "cell_type": "code",
   "execution_count": 1,
   "id": "b820ddfd",
   "metadata": {},
   "outputs": [],
   "source": [
    "# pip install nltk"
   ]
  },
  {
   "cell_type": "markdown",
   "id": "ae8a233d",
   "metadata": {},
   "source": [
    "  "
   ]
  },
  {
   "cell_type": "markdown",
   "id": "2e443987",
   "metadata": {},
   "source": [
    "First thing is to import the library and classes we need to use."
   ]
  },
  {
   "cell_type": "markdown",
   "id": "8829c41f",
   "metadata": {},
   "source": [
    "  "
   ]
  },
  {
   "cell_type": "code",
   "execution_count": 2,
   "id": "26c4c746",
   "metadata": {},
   "outputs": [],
   "source": [
    "import nltk\n",
    "from nltk.chat.util import Chat, reflections"
   ]
  },
  {
   "cell_type": "markdown",
   "id": "2cec7fdb",
   "metadata": {},
   "source": [
    "  "
   ]
  },
  {
   "cell_type": "markdown",
   "id": "d80cbfac",
   "metadata": {},
   "source": [
    "* <b> Chat – </b> Chat is a class that contains complete logic for processing the text data which the chatbot receives and find useful information out of it.\n",
    "\n",
    "\n",
    "* <b> Reflections – </b> Another import we have done is reflections which is a dictionary containing basic input and corresponding outputs. You can also create your own dictionary with more responses you want. if you print reflections it will be something like this."
   ]
  },
  {
   "cell_type": "code",
   "execution_count": 3,
   "id": "6b606f6a",
   "metadata": {},
   "outputs": [],
   "source": [
    "reflections = {\n",
    "  \"i am\"       : \"you are\",\n",
    "  \"i was\"      : \"you were\",\n",
    "  \"i\"          : \"you\",\n",
    "  \"i'm\"        : \"you are\",\n",
    "  \"i'd\"        : \"you would\",\n",
    "  \"i've\"       : \"you have\",\n",
    "  \"i'll\"       : \"you will\",\n",
    "  \"my\"         : \"your\",\n",
    "  \"you are\"    : \"I am\",\n",
    "  \"you were\"   : \"I was\",\n",
    "  \"you've\"     : \"I have\",\n",
    "  \"you'll\"     : \"I will\",\n",
    "  \"your\"       : \"my\",\n",
    "  \"yours\"      : \"mine\",\n",
    "  \"you\"        : \"me\",\n",
    "  \"me\"         : \"you\"\n",
    "}"
   ]
  },
  {
   "cell_type": "markdown",
   "id": "3e6b9d98",
   "metadata": {},
   "source": [
    "  "
   ]
  },
  {
   "cell_type": "markdown",
   "id": "6646d627",
   "metadata": {},
   "source": [
    "let’s start building logic for the NLTK chatbot."
   ]
  },
  {
   "cell_type": "markdown",
   "id": "ca3d1a3d",
   "metadata": {},
   "source": [
    "After importing the libraries, First, we have to create rules. The lines of code given below create a simple set of rules. the first line describes the user input which we have taken as raw string input and the next line is our chatbot response. You can modify these pairs as per the questions and answers you want."
   ]
  },
  {
   "cell_type": "markdown",
   "id": "f4e902d1",
   "metadata": {},
   "source": [
    "  "
   ]
  },
  {
   "cell_type": "code",
   "execution_count": 4,
   "id": "69868b4a",
   "metadata": {},
   "outputs": [],
   "source": [
    "pairs = [\n",
    "    [\n",
    "        r\"my name is (.*)\",\n",
    "        [\"Hello %1, How are you today ?\",]\n",
    "    ],\n",
    "    [\n",
    "        r\"hi|hey|hello\",\n",
    "        [\"Hello\", \"Hey there\",]\n",
    "    ], \n",
    "    [\n",
    "        r\"what is your name ?\",\n",
    "        [\"I am a bot created by Analytics Prathamesh. you can call me crazy!\",]\n",
    "    ],\n",
    "    [\n",
    "        r\"how are you ?\",\n",
    "        [\"I'm doing good How about You ?\",]\n",
    "    ],\n",
    "    [\n",
    "        r\"sorry (.*)\",\n",
    "        [\"Its alright\",\"Its OK, never mind\",]\n",
    "    ],\n",
    "    [\n",
    "        r\"I am fine\",\n",
    "        [\"Great to hear that, How can I help you?\",]\n",
    "    ],\n",
    "    [\n",
    "        r\"i'm (.*) doing good\",\n",
    "        [\"Nice to hear that\",\"How can I help you?:)\",]\n",
    "    ],\n",
    "    [\n",
    "        r\"(.*) age ?\",\n",
    "        [\"I'm a computer program dude Seriously you are asking me this?\",]\n",
    "    ],\n",
    "    [\n",
    "        r\"what (.*) want ?\",\n",
    "        [\"Make me an offer I can't refuse\",]\n",
    "    ],\n",
    "    [\n",
    "        r\"(.*) created ?\",\n",
    "        [\"Prathamesh created me using Python's NLTK library\"]\n",
    "    ],\n",
    "    [\n",
    "        r\"(.*) (location|city) ?\",\n",
    "        ['Hyderabad, Telengana, India',]\n",
    "    ],\n",
    "    [\n",
    "        r\"how is weather in (.*)?\",\n",
    "        [\"Weather in %1 is awesome like always\",\"Too hot man here in %1\",\"Too cold man here in %1\",\"Never even heard about %1\"]\n",
    "    ],\n",
    "    [\n",
    "        r\"i work in (.*)?\",\n",
    "        [\"%1 is an Amazing company, I have heard about it. But they are in huge loss these days.\",]\n",
    "    ],\n",
    "    [\n",
    "        r\"(.*)raining in (.*)\",\n",
    "        [\"No rain since last week here in %2\",\"Damn its raining too much here in %2\"]\n",
    "    ],\n",
    "    [\n",
    "        r\"how (.*) health(.*)\",\n",
    "        [\"I'm a computer program, so I'm always healthy \",]\n",
    "    ],\n",
    "    [\n",
    "        r\"(.*) (sports|game) ?\",\n",
    "        [\"I'm a very big fan of Cricket\",]\n",
    "    ],\n",
    "    [\n",
    "        r\"(.*) batsman ?\", \n",
    "        [\"Virat\", \"M. S. Dhoni\"]\n",
    "    ],\n",
    "    [\n",
    "        r\"who (.*) (moviestar|actor)?\",\n",
    "        [\"Akshy Kumar\", \"S. R. Rajput\"]\n",
    "    ],\n",
    "    [\n",
    "        r\"i am looking for online guides and courses to learn data science, can you suggest?\",\n",
    "        [\"Naresh i Technologies, Hyderabad. Technlogiy has many great articles with each step explanation along with code, you can explore\"]\n",
    "    ],\n",
    "    [\n",
    "        r\"quit\",\n",
    "        [\"BBye take care. See you soon :) \",\"It was nice talking to you. See you soon :)\"]\n",
    "    ],\n",
    "]"
   ]
  },
  {
   "cell_type": "markdown",
   "id": "b7655330",
   "metadata": {},
   "source": [
    "  "
   ]
  },
  {
   "cell_type": "markdown",
   "id": "3b1979be",
   "metadata": {},
   "source": [
    "After creating pairs of rules, we will define a function to initiate the chat process. The function is very simple which first greet the user, and ask for any help. And the conversation starts from here by calling a Chat class and passing pairs and reflections to it."
   ]
  },
  {
   "cell_type": "markdown",
   "id": "f7633695",
   "metadata": {},
   "source": [
    "  "
   ]
  },
  {
   "cell_type": "code",
   "execution_count": null,
   "id": "292dfe10",
   "metadata": {},
   "outputs": [
    {
     "name": "stdout",
     "output_type": "stream",
     "text": [
      "Hi! I am a chatbot created by Analytics Vidhya for your service\n",
      ">Hii\n",
      "Hello\n",
      ">My name is Ganesh.\n",
      "Hello ganesh, How are you today ?\n",
      ">i am fine !\n",
      "Great to hear that, How can I help you?\n",
      ">How are you ?\n",
      "I'm doing good How about You ?\n",
      ">What is your name ?\n",
      "I am a bot created by Analytics Prathamesh. you can call me crazy!\n",
      ">what is your age ?\n",
      "I'm a computer program dude Seriously you are asking me this?\n",
      ">Sorry !\n",
      "Its alright\n",
      ">How is your health ?\n",
      "I'm a computer program, so I'm always healthy \n",
      ">Who created you ?\n",
      "Prathamesh created me using Python's NLTK library\n"
     ]
    }
   ],
   "source": [
    "def chat():\n",
    "    print(\"Hi! I am a chatbot created by Analytics Vidhya for your service\")\n",
    "    chat = Chat(pairs, reflections)\n",
    "    chat.converse()\n",
    "#initiate the conversation\n",
    "if __name__ == \"__main__\":\n",
    "    chat()"
   ]
  },
  {
   "cell_type": "markdown",
   "id": "0fe6111c",
   "metadata": {},
   "source": [
    "  "
   ]
  },
  {
   "cell_type": "markdown",
   "id": "77d1b268",
   "metadata": {},
   "source": [
    "We have created an amazing Rule-based chatbot just by using Python and NLTK library. The nltk.chat works on various regex patterns present in user Intent and corresponding to it, presents the output to a user. Let’s run the application and chat with your created chatbot"
   ]
  },
  {
   "attachments": {
    "Screenshot%20%287%29.png": {
     "image/png": "[encoded data removed]"
    }
   },
   "cell_type": "markdown",
   "id": "4ff183de",
   "metadata": {},
   "source": [
    "![Screenshot%20%287%29.png](attachment:Screenshot%20%287%29.png)"
   ]
  },
  {
   "cell_type": "markdown",
   "id": "954bb8f5",
   "metadata": {},
   "source": [
    "  "
   ]
  },
  {
   "cell_type": "markdown",
   "id": "bf6bea13",
   "metadata": {},
   "source": [
    "  "
   ]
  },
  {
   "cell_type": "markdown",
   "id": "a5003c0d",
   "metadata": {},
   "source": [
    "# <font color='purple'> <b> End Note : </b>"
   ]
  },
  {
   "cell_type": "markdown",
   "id": "8aa55888",
   "metadata": {},
   "source": [
    "Chatbots are the top application of Natural Language processing and today it is simple to create and integrate with various social medial handle and websites. Today most Chatbots are created using tools like Dialogflow, RASA, etc. This was a quick introduction to chatbots to present an understanding of how businesses are transforming using Data science and artificial Intelligence."
   ]
  },
  {
   "cell_type": "markdown",
   "id": "acc44659",
   "metadata": {},
   "source": [
    "  "
   ]
  },
  {
   "cell_type": "markdown",
   "id": "a0009381",
   "metadata": {},
   "source": [
    "  "
   ]
  }
 ],
 "metadata": {
  "kernelspec": {
   "display_name": "Python 3 (ipykernel)",
   "language": "python",
   "name": "python3"
  },
  "language_info": {
   "codemirror_mode": {
    "name": "ipython",
    "version": 3
   },
   "file_extension": ".py",
   "mimetype": "text/x-python",
   "name": "python",
   "nbconvert_exporter": "python",
   "pygments_lexer": "ipython3",
   "version": "3.9.12"
  },
  "toc": {
   "base_numbering": 1,
   "nav_menu": {},
   "number_sections": true,
   "sideBar": true,
   "skip_h1_title": false,
   "title_cell": "Table of Contents",
   "title_sidebar": "Contents",
   "toc_cell": false,
   "toc_position": {},
   "toc_section_display": true,
   "toc_window_display": false
  }
 },
 "nbformat": 4,
 "nbformat_minor": 5
}
